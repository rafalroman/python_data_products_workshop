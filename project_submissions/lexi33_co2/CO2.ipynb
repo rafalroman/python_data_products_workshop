{
 "cells": [
  {
   "cell_type": "code",
   "execution_count": 4,
   "metadata": {},
   "outputs": [],
   "source": [
    "import pandas as pd\n",
    "import numpy as np\n",
    "import matplotlib.pyplot as plt"
   ]
  },
  {
   "cell_type": "markdown",
   "metadata": {},
   "source": [
    "code -> GitHub\n",
    "data -> Database or in CSV/Text file Online"
   ]
  },
  {
   "cell_type": "code",
   "execution_count": 1,
   "metadata": {},
   "outputs": [
    {
     "ename": "NameError",
     "evalue": "name 'pd' is not defined",
     "output_type": "error",
     "traceback": [
      "\u001b[1;31m---------------------------------------------------------------------------\u001b[0m",
      "\u001b[1;31mNameError\u001b[0m                                 Traceback (most recent call last)",
      "\u001b[1;32m<ipython-input-1-d34ed8488f39>\u001b[0m in \u001b[0;36m<module>\u001b[1;34m\u001b[0m\n\u001b[1;32m----> 1\u001b[1;33m \u001b[0mCO2_emission\u001b[0m \u001b[1;33m=\u001b[0m \u001b[0mpd\u001b[0m\u001b[1;33m.\u001b[0m\u001b[0mread_csv\u001b[0m \u001b[1;33m(\u001b[0m\u001b[1;34mr'D:\\pobrane\\cumulative-co-emissions.csv'\u001b[0m\u001b[1;33m)\u001b[0m\u001b[1;33m\u001b[0m\u001b[1;33m\u001b[0m\u001b[0m\n\u001b[0m\u001b[0;32m      2\u001b[0m \u001b[0mprint\u001b[0m \u001b[1;33m(\u001b[0m\u001b[0mCO2_emission\u001b[0m\u001b[1;33m)\u001b[0m\u001b[1;33m\u001b[0m\u001b[1;33m\u001b[0m\u001b[0m\n",
      "\u001b[1;31mNameError\u001b[0m: name 'pd' is not defined"
     ]
    }
   ],
   "source": [
    "CO2_emission = pd.read_csv(r'D:\\pobrane\\cumulative-co-emissions.csv')\n",
    "print (CO2_emission)"
   ]
  },
  {
   "cell_type": "code",
   "execution_count": 7,
   "metadata": {},
   "outputs": [
    {
     "data": {
      "image/png": "[encoded data removed]",
      "text/plain": [
       "<Figure size 432x288 with 1 Axes>"
      ]
     },
     "metadata": {
      "needs_background": "light"
     },
     "output_type": "display_data"
    }
   ],
   "source": [
    "CO2_emission.plot(kind='bar', y='Emissions', x='Year', title=\"world CO2 emissions\")\n",
    "plt.show()"
   ]
  },
  {
   "cell_type": "code",
   "execution_count": 6,
   "metadata": {},
   "outputs": [],
   "source": [
    "# I wanted to use this, but I don`t know how# pd.date_range(start='1/1/1930', end='1/08/2000', closed=None, freq= 'YS', utc=True)"
   ]
  },
  {
   "cell_type": "markdown",
   "metadata": {},
   "source": [
    "# Solution\n",
    "\n",
    "Partial solution to get you going. It is better to download the file via python, this way the code works on all PC's. In your case above I would not have access to your .csv file stored on your local pc."
   ]
  },
  {
   "cell_type": "code",
   "execution_count": 5,
   "metadata": {},
   "outputs": [],
   "source": [
    "import requests\n",
    "import os\n",
    "import zipfile\n",
    "import pandas\n",
    "import matplotlib.pyplot as plt\n",
    "\n",
    "#Paths\n",
    "ROOT_PATH = os.path.abspath(\"\")\n",
    "zip_folder = os.path.join(ROOT_PATH, \"zipdownload\")\n",
    "zip_path = os.path.join(ROOT_PATH, \"zipdownload\", \"download.zip\")\n",
    "\n",
    "#Download the zip file\n",
    "csv_link = \"http://api.worldbank.org/v2/en/indicator/EN.ATM.CO2E.KT?downloadformat=csv\"\n",
    "f = requests.get(csv_link)\n",
    "with open(zip_path, \"wb\") as code:\n",
    "    code.write(f.content)\n",
    "\n",
    "#unzip\n",
    "zip = zipfile.ZipFile(zip_path)\n",
    "file = zip.extractall(zip_folder)\n",
    "\n",
    "#read csv into pandas df\n",
    "csv_path = os.path.join(ROOT_PATH, \"zipdownload\", \"API_EN.ATM.CO2E.KT_DS2_en_csv_v2_887574.csv\")\n",
    "df = pandas.read_csv(csv_path, skiprows=4)\n",
    "\n",
    "#Plot (not pretty but it works)\n",
    "_df = df.melt(id_vars=[\"Country Name\", \"Country Code\", \"Indicator Name\", \"Indicator Code\"]\n",
    "        , var_name=\"Year\", value_name=\"Emissions\"\n",
    "       ).groupby(by=\"Year\")[\"Emissions\"].sum()\n",
    "\n",
    "_df.plot(kind='bar', y='Emissions', x='Year', title=\"world CO2 emissions\")\n",
    "plt.show()"
   ]
  }
 ],
 "metadata": {
  "kernelspec": {
   "display_name": "Python 3",
   "language": "python",
   "name": "python3"
  },
  "language_info": {
   "codemirror_mode": {
    "name": "ipython",
    "version": 3
   },
   "file_extension": ".py",
   "mimetype": "text/x-python",
   "name": "python",
   "nbconvert_exporter": "python",
   "pygments_lexer": "ipython3",
   "version": "3.7.3"
  }
 },
 "nbformat": 4,
 "nbformat_minor": 4
}
