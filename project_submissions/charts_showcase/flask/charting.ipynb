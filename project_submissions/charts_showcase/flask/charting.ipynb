{
 "cells": [
  {
   "cell_type": "code",
   "execution_count": 2,
   "metadata": {
    "pycharm": {
     "is_executing": false
    }
   },
   "outputs": [
    {
     "name": "stdout",
     "text": [
      "/Users/rafalroman/PycharmProjects\n"
     ],
     "output_type": "stream"
    }
   ],
   "source": [
    "import ipywidgets as widgets\n",
    "import sqlite3\n",
    "import os\n",
    "import altair as alt\n",
    "import pandas as pd\n",
    "os.chdir(\"/Users/rafalroman/PycharmProjects/python_data_products_workshop/project_submissions/charts_showcase/flask\")\n",
    "\n",
    "from config import DB_FOLDER_PATH_S\n",
    "DB_FOLDER_PATH = os.path.abspath(DB_FOLDER_PATH_S)\n",
    "print(DB_FOLDER_PATH)"
   ]
  },
  {
   "cell_type": "code",
   "execution_count": 20,
   "metadata": {},
   "outputs": [],
   "source": [
    "# ROOT_PATH = os.path.abspath(\"\")\n",
    "DB_PATH = os.path.join(DB_FOLDER_PATH, \"ex3_db\", \"chinook.db\")\n",
    "\n",
    "conn = sqlite3.connect(DB_PATH)\n",
    "\n",
    "sql = \"select LastName from customers\"\n",
    "lName = \"Rocha\"\n",
    "_sql = f\"select LastName from customers WHERE LastName={lName}\"\n",
    "results = conn.execute(sql).fetchall()"
   ]
  },
  {
   "cell_type": "code",
   "execution_count": 6,
   "metadata": {},
   "outputs": [
    {
     "data": {
      "application/vnd.jupyter.widget-view+json": {
       "model_id": "7becc7c263ee43a09c96181dbf017066",
       "version_major": 2,
       "version_minor": 0
      },
      "text/plain": [
       "Dropdown(description='Customer:', options=('Gonçalves', 'Köhler', 'Tremblay', 'Hansen', 'Wichterlová', 'Holý',…"
      ]
     },
     "metadata": {},
     "output_type": "display_data"
    }
   ],
   "source": [
    "options = [option[0] for option in results]\n",
    "\n",
    "widgets.Dropdown(\n",
    "    options=options,\n",
    "    description='Customer:',\n",
    "    disabled=False,\n",
    ")"
   ]
  },
  {
   "cell_type": "code",
   "execution_count": null,
   "metadata": {},
   "outputs": [],
   "source": [
    "options = [option[0] for option in results]\n",
    "options"
   ]
  },
  {
   "cell_type": "code",
   "execution_count": 11,
   "metadata": {},
   "outputs": [
    {
     "data": {
      "text/plain": [
       "[('Gonçalves',),\n",
       " ('Köhler',),\n",
       " ('Tremblay',),\n",
       " ('Hansen',),\n",
       " ('Wichterlová',),\n",
       " ('Holý',),\n",
       " ('Gruber',),\n",
       " ('Peeters',),\n",
       " ('Nielsen',),\n",
       " ('Martins',),\n",
       " ('Rocha',),\n",
       " ('Almeida',),\n",
       " ('Ramos',),\n",
       " ('Philips',),\n",
       " ('Peterson',),\n",
       " ('Harris',),\n",
       " ('Smith',),\n",
       " ('Brooks',),\n",
       " ('Goyer',),\n",
       " ('Miller',),\n",
       " ('Chase',),\n",
       " ('Leacock',),\n",
       " ('Gordon',),\n",
       " ('Ralston',),\n",
       " ('Stevens',),\n",
       " ('Cunningham',),\n",
       " ('Gray',),\n",
       " ('Barnett',),\n",
       " ('Brown',),\n",
       " ('Francis',),\n",
       " ('Silk',),\n",
       " ('Mitchell',),\n",
       " ('Sullivan',),\n",
       " ('Fernandes',),\n",
       " ('Sampaio',),\n",
       " ('Schneider',),\n",
       " ('Zimmermann',),\n",
       " ('Schröder',),\n",
       " ('Bernard',),\n",
       " ('Lefebvre',),\n",
       " ('Dubois',),\n",
       " ('Girard',),\n",
       " ('Mercier',),\n",
       " ('Hämäläinen',),\n",
       " ('Kovács',),\n",
       " (\"O'Reilly\",),\n",
       " ('Mancini',),\n",
       " ('Van der Berg',),\n",
       " ('Wójcik',),\n",
       " ('Muñoz',),\n",
       " ('Johansson',),\n",
       " ('Jones',),\n",
       " ('Hughes',),\n",
       " ('Murray',),\n",
       " ('Taylor',),\n",
       " ('Gutiérrez',),\n",
       " ('Rojas',),\n",
       " ('Pareek',),\n",
       " ('Srivastava',)]"
      ]
     },
     "execution_count": 11,
     "metadata": {},
     "output_type": "execute_result"
    }
   ],
   "source": [
    "results"
   ]
  },
  {
   "cell_type": "code",
   "execution_count": null,
   "metadata": {},
   "outputs": [],
   "source": []
  }
 ],
 "metadata": {
  "kernelspec": {
   "name": "pycharm-21853c3c",
   "language": "python",
   "display_name": "PyCharm (python_data_products_workshop)"
  },
  "language_info": {
   "codemirror_mode": {
    "name": "ipython",
    "version": 3
   },
   "file_extension": ".py",
   "mimetype": "text/x-python",
   "name": "python",
   "nbconvert_exporter": "python",
   "pygments_lexer": "ipython3",
<<<<<<< HEAD
   "version": "3.7.3"
=======
   "version": "3.7.6"
  },
  "pycharm": {
   "stem_cell": {
    "cell_type": "raw",
    "source": [],
    "metadata": {
     "collapsed": false
    }
   }
>>>>>>> 3de145de8f252b286560db97929280ded63a68c0
  }
 },
 "nbformat": 4,
 "nbformat_minor": 4
}